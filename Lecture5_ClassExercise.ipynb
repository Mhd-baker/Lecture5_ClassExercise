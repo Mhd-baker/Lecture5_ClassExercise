{
  "nbformat": 4,
  "nbformat_minor": 0,
  "metadata": {
    "colab": {
      "provenance": []
    },
    "kernelspec": {
      "name": "python3",
      "display_name": "Python 3"
    },
    "language_info": {
      "name": "python"
    }
  },
  "cells": [
    {
      "cell_type": "code",
      "source": [
        "!pip install requests dnspython"
      ],
      "metadata": {
        "colab": {
          "base_uri": "https://localhost:8080/"
        },
        "id": "jvBVg1OAhUjP",
        "outputId": "3b5743cc-2490-4e72-a999-776da04d6163"
      },
      "execution_count": 4,
      "outputs": [
        {
          "output_type": "stream",
          "name": "stdout",
          "text": [
            "Requirement already satisfied: requests in /usr/local/lib/python3.11/dist-packages (2.32.3)\n",
            "Requirement already satisfied: dnspython in /usr/local/lib/python3.11/dist-packages (2.7.0)\n",
            "Requirement already satisfied: charset-normalizer<4,>=2 in /usr/local/lib/python3.11/dist-packages (from requests) (3.4.3)\n",
            "Requirement already satisfied: idna<4,>=2.5 in /usr/local/lib/python3.11/dist-packages (from requests) (3.10)\n",
            "Requirement already satisfied: urllib3<3,>=1.21.1 in /usr/local/lib/python3.11/dist-packages (from requests) (2.5.0)\n",
            "Requirement already satisfied: certifi>=2017.4.17 in /usr/local/lib/python3.11/dist-packages (from requests) (2025.8.3)\n"
          ]
        }
      ]
    },
    {
      "cell_type": "code",
      "source": [
        "import requests\n",
        "\n",
        "# ---- Replace with your GitHub credentials ----\n",
        "USERNAME = 'your_username'          # Your GitHub username\n",
        "TOKEN = 'your_new_token'            # Your new Personal Access Token (PAT)\n",
        "\n",
        "# Create a persistent session\n",
        "session = requests.Session()\n",
        "session.auth = (USERNAME, TOKEN)\n",
        "\n",
        "url = 'https://api.github.com/user'\n",
        "\n",
        "# Fetch profile multiple times\n",
        "for i in range(3):\n",
        "    response = session.get(url)\n",
        "    print(f\"Fetch {i+1}\")\n",
        "    print(\"Status Code:\", response.status_code)\n",
        "    print(\"Headers:\", response.headers)\n",
        "    print(\"Content:\", response.json())\n",
        "    print(\"-\" * 50)\n"
      ],
      "metadata": {
        "colab": {
          "base_uri": "https://localhost:8080/"
        },
        "id": "FGn_6IbahZzk",
        "outputId": "0009c740-c3ea-4631-c824-9e4227b4d436"
      },
      "execution_count": 5,
      "outputs": [
        {
          "output_type": "stream",
          "name": "stdout",
          "text": [
            "Fetch 1\n",
            "Status Code: 401\n",
            "Headers: {'Date': 'Thu, 14 Aug 2025 21:39:04 GMT', 'Content-Type': 'application/json; charset=utf-8', 'Content-Length': '142', 'X-GitHub-Media-Type': 'github.v3; format=json', 'x-github-api-version-selected': '2022-11-28', 'X-RateLimit-Limit': '60', 'X-RateLimit-Remaining': '56', 'X-RateLimit-Reset': '1755210932', 'X-RateLimit-Used': '4', 'X-RateLimit-Resource': 'core', 'Access-Control-Expose-Headers': 'ETag, Link, Location, Retry-After, X-GitHub-OTP, X-RateLimit-Limit, X-RateLimit-Remaining, X-RateLimit-Used, X-RateLimit-Resource, X-RateLimit-Reset, X-OAuth-Scopes, X-Accepted-OAuth-Scopes, X-Poll-Interval, X-GitHub-Media-Type, X-GitHub-SSO, X-GitHub-Request-Id, Deprecation, Sunset', 'Access-Control-Allow-Origin': '*', 'Strict-Transport-Security': 'max-age=31536000; includeSubdomains; preload', 'X-Frame-Options': 'deny', 'X-Content-Type-Options': 'nosniff', 'X-XSS-Protection': '0', 'Referrer-Policy': 'origin-when-cross-origin, strict-origin-when-cross-origin', 'Content-Security-Policy': \"default-src 'none'\", 'Vary': 'Accept-Encoding, Accept, X-Requested-With', 'Server': 'github.com', 'X-GitHub-Request-Id': 'E06E:120FB0:7D9678:8054F5:689E5778'}\n",
            "Content: {'message': 'Requires authentication', 'documentation_url': 'https://docs.github.com/rest/users/users#get-the-authenticated-user', 'status': '401'}\n",
            "--------------------------------------------------\n",
            "Fetch 2\n",
            "Status Code: 401\n",
            "Headers: {'Date': 'Thu, 14 Aug 2025 21:39:04 GMT', 'Content-Type': 'application/json; charset=utf-8', 'Content-Length': '142', 'X-GitHub-Media-Type': 'github.v3; format=json', 'x-github-api-version-selected': '2022-11-28', 'X-RateLimit-Limit': '60', 'X-RateLimit-Remaining': '55', 'X-RateLimit-Reset': '1755210932', 'X-RateLimit-Used': '5', 'X-RateLimit-Resource': 'core', 'Access-Control-Expose-Headers': 'ETag, Link, Location, Retry-After, X-GitHub-OTP, X-RateLimit-Limit, X-RateLimit-Remaining, X-RateLimit-Used, X-RateLimit-Resource, X-RateLimit-Reset, X-OAuth-Scopes, X-Accepted-OAuth-Scopes, X-Poll-Interval, X-GitHub-Media-Type, X-GitHub-SSO, X-GitHub-Request-Id, Deprecation, Sunset', 'Access-Control-Allow-Origin': '*', 'Strict-Transport-Security': 'max-age=31536000; includeSubdomains; preload', 'X-Frame-Options': 'deny', 'X-Content-Type-Options': 'nosniff', 'X-XSS-Protection': '0', 'Referrer-Policy': 'origin-when-cross-origin, strict-origin-when-cross-origin', 'Content-Security-Policy': \"default-src 'none'\", 'Vary': 'Accept-Encoding, Accept, X-Requested-With', 'Server': 'github.com', 'X-GitHub-Request-Id': 'E06E:120FB0:7D9707:805589:689E5778'}\n",
            "Content: {'message': 'Requires authentication', 'documentation_url': 'https://docs.github.com/rest/users/users#get-the-authenticated-user', 'status': '401'}\n",
            "--------------------------------------------------\n",
            "Fetch 3\n",
            "Status Code: 401\n",
            "Headers: {'Date': 'Thu, 14 Aug 2025 21:39:04 GMT', 'Content-Type': 'application/json; charset=utf-8', 'Content-Length': '142', 'X-GitHub-Media-Type': 'github.v3; format=json', 'x-github-api-version-selected': '2022-11-28', 'X-RateLimit-Limit': '60', 'X-RateLimit-Remaining': '54', 'X-RateLimit-Reset': '1755210932', 'X-RateLimit-Used': '6', 'X-RateLimit-Resource': 'core', 'Access-Control-Expose-Headers': 'ETag, Link, Location, Retry-After, X-GitHub-OTP, X-RateLimit-Limit, X-RateLimit-Remaining, X-RateLimit-Used, X-RateLimit-Resource, X-RateLimit-Reset, X-OAuth-Scopes, X-Accepted-OAuth-Scopes, X-Poll-Interval, X-GitHub-Media-Type, X-GitHub-SSO, X-GitHub-Request-Id, Deprecation, Sunset', 'Access-Control-Allow-Origin': '*', 'Strict-Transport-Security': 'max-age=31536000; includeSubdomains; preload', 'X-Frame-Options': 'deny', 'X-Content-Type-Options': 'nosniff', 'X-XSS-Protection': '0', 'Referrer-Policy': 'origin-when-cross-origin, strict-origin-when-cross-origin', 'Content-Security-Policy': \"default-src 'none'\", 'Vary': 'Accept-Encoding, Accept, X-Requested-With', 'Server': 'github.com', 'X-GitHub-Request-Id': 'E06E:120FB0:7D976E:8055F3:689E5778'}\n",
            "Content: {'message': 'Requires authentication', 'documentation_url': 'https://docs.github.com/rest/users/users#get-the-authenticated-user', 'status': '401'}\n",
            "--------------------------------------------------\n"
          ]
        }
      ]
    },
    {
      "cell_type": "code",
      "source": [
        "import dns.resolver\n",
        "import ssl\n",
        "import socket\n",
        "\n",
        "domain = 'github.com'\n",
        "\n",
        "# IPv4 addresses\n",
        "a_records = dns.resolver.resolve(domain, 'A')\n",
        "print(\"IPv4 Addresses:\")\n",
        "for ip in a_records[:3]:\n",
        "    print(ip)\n",
        "\n",
        "# IPv6 addresses with error handling\n",
        "try:\n",
        "    aaaa_records = dns.resolver.resolve(domain, 'AAAA')\n",
        "    print(\"\\nIPv6 Addresses:\")\n",
        "    for ip in aaaa_records[:3]:\n",
        "        print(ip)\n",
        "except dns.resolver.NoAnswer:\n",
        "    print(\"\\nNo IPv6 addresses found for\", domain)\n",
        "\n",
        "# Name Servers\n",
        "ns_records = dns.resolver.resolve(domain, 'NS')\n",
        "print(\"\\nName Servers:\")\n",
        "for ns in ns_records[:3]:\n",
        "    print(ns)\n",
        "\n",
        "# Mail Servers\n",
        "mx_records = dns.resolver.resolve(domain, 'MX')\n",
        "print(\"\\nMail Servers:\")\n",
        "for mx in mx_records[:2]:\n",
        "    print(mx)\n",
        "\n",
        "# TLS/SSL Certificate\n",
        "hostname = 'github.com'\n",
        "context = ssl.create_default_context()\n",
        "\n",
        "with socket.create_connection((hostname, 443)) as sock:\n",
        "    with context.wrap_socket(sock, server_hostname=hostname) as ssock:\n",
        "        cert = ssock.getpeercert()\n",
        "        print(\"\\nTLS/SSL Certificate Info:\")\n",
        "        print(cert['issuer'])\n"
      ],
      "metadata": {
        "colab": {
          "base_uri": "https://localhost:8080/"
        },
        "id": "jjN2CqzLhfY0",
        "outputId": "1b1d638c-f4a4-4c88-8d90-5bd9e3dc0c48"
      },
      "execution_count": 6,
      "outputs": [
        {
          "output_type": "stream",
          "name": "stdout",
          "text": [
            "IPv4 Addresses:\n",
            "140.82.116.4\n",
            "\n",
            "No IPv6 addresses found for github.com\n",
            "\n",
            "Name Servers:\n",
            "dns1.p08.nsone.net.\n",
            "dns2.p08.nsone.net.\n",
            "dns3.p08.nsone.net.\n",
            "\n",
            "Mail Servers:\n",
            "1 aspmx.l.google.com.\n",
            "10 alt3.aspmx.l.google.com.\n",
            "\n",
            "TLS/SSL Certificate Info:\n",
            "((('countryName', 'GB'),), (('stateOrProvinceName', 'Greater Manchester'),), (('localityName', 'Salford'),), (('organizationName', 'Sectigo Limited'),), (('commonName', 'Sectigo ECC Domain Validation Secure Server CA'),))\n"
          ]
        }
      ]
    }
  ]
}